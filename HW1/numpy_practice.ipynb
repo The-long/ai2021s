{
 "cells": [
  {
   "cell_type": "code",
   "execution_count": 1,
   "metadata": {},
   "outputs": [],
   "source": [
    "import numpy as np"
   ]
  },
  {
   "cell_type": "code",
   "execution_count": 4,
   "metadata": {},
   "outputs": [],
   "source": [
    "x = np.random.uniform(low=0.0, high=1.0, size=10000)"
   ]
  },
  {
   "cell_type": "code",
   "execution_count": 5,
   "metadata": {},
   "outputs": [
    {
     "data": {
      "text/plain": [
       "array([0.4512796 , 0.522303  , 0.6381815 , 0.35191471, 0.58740489,\n",
       "       0.26447685, 0.67136963, 0.69168547, 0.79531425, 0.0531728 ])"
      ]
     },
     "execution_count": 5,
     "metadata": {},
     "output_type": "execute_result"
    }
   ],
   "source": [
    "x[:10]"
   ]
  },
  {
   "cell_type": "code",
   "execution_count": 14,
   "metadata": {},
   "outputs": [],
   "source": [
    "y = -np.log(x)"
   ]
  },
  {
   "cell_type": "code",
   "execution_count": 17,
   "metadata": {},
   "outputs": [],
   "source": [
    "import matplotlib.pyplot as plt"
   ]
  },
  {
   "cell_type": "code",
   "execution_count": 19,
   "metadata": {},
   "outputs": [
    {
     "data": {
      "text/plain": [
       "(array([854., 801., 713., 668., 597., 535., 503., 435., 427., 395., 346.,\n",
       "        343., 295., 238., 244., 217., 223., 176., 173., 141., 144., 134.,\n",
       "        132., 105., 107.,  83.,  69.,  79.,  73.,  65.,  65.,  49.,  42.,\n",
       "         41.,  53.,  50.,  39.,  34.,  21.,  23.,  33.,  20.,  16.,  18.,\n",
       "         17.,  15.,   7.,  12.,  15.,  14.,   4.,   6.,   7.,  10.,   6.,\n",
       "          9.,   7.,   1.,   5.,   2.,   6.,   6.,   1.,   0.,   2.,   6.,\n",
       "          2.,   4.,   3.,   3.,   0.,   1.,   1.,   1.,   1.,   2.,   1.,\n",
       "          0.,   0.,   0.,   1.,   0.,   1.,   1.,   0.,   0.,   0.,   0.,\n",
       "          0.,   0.,   0.,   0.,   0.,   0.,   0.,   0.,   0.,   0.,   0.,\n",
       "          1.]),\n",
       " array([4.42813111e-05, 8.98834913e-02, 1.79722701e-01, 2.69561911e-01,\n",
       "        3.59401121e-01, 4.49240331e-01, 5.39079541e-01, 6.28918751e-01,\n",
       "        7.18757961e-01, 8.08597171e-01, 8.98436381e-01, 9.88275591e-01,\n",
       "        1.07811480e+00, 1.16795401e+00, 1.25779322e+00, 1.34763243e+00,\n",
       "        1.43747164e+00, 1.52731085e+00, 1.61715006e+00, 1.70698927e+00,\n",
       "        1.79682848e+00, 1.88666769e+00, 1.97650690e+00, 2.06634611e+00,\n",
       "        2.15618532e+00, 2.24602453e+00, 2.33586374e+00, 2.42570295e+00,\n",
       "        2.51554216e+00, 2.60538137e+00, 2.69522058e+00, 2.78505979e+00,\n",
       "        2.87489900e+00, 2.96473821e+00, 3.05457742e+00, 3.14441663e+00,\n",
       "        3.23425584e+00, 3.32409505e+00, 3.41393426e+00, 3.50377347e+00,\n",
       "        3.59361268e+00, 3.68345189e+00, 3.77329110e+00, 3.86313031e+00,\n",
       "        3.95296952e+00, 4.04280873e+00, 4.13264794e+00, 4.22248715e+00,\n",
       "        4.31232636e+00, 4.40216557e+00, 4.49200478e+00, 4.58184399e+00,\n",
       "        4.67168320e+00, 4.76152241e+00, 4.85136162e+00, 4.94120083e+00,\n",
       "        5.03104004e+00, 5.12087925e+00, 5.21071846e+00, 5.30055767e+00,\n",
       "        5.39039688e+00, 5.48023609e+00, 5.57007530e+00, 5.65991451e+00,\n",
       "        5.74975372e+00, 5.83959293e+00, 5.92943214e+00, 6.01927135e+00,\n",
       "        6.10911056e+00, 6.19894977e+00, 6.28878898e+00, 6.37862819e+00,\n",
       "        6.46846740e+00, 6.55830661e+00, 6.64814582e+00, 6.73798503e+00,\n",
       "        6.82782424e+00, 6.91766345e+00, 7.00750266e+00, 7.09734187e+00,\n",
       "        7.18718108e+00, 7.27702029e+00, 7.36685950e+00, 7.45669871e+00,\n",
       "        7.54653792e+00, 7.63637713e+00, 7.72621634e+00, 7.81605555e+00,\n",
       "        7.90589476e+00, 7.99573397e+00, 8.08557318e+00, 8.17541239e+00,\n",
       "        8.26525160e+00, 8.35509081e+00, 8.44493002e+00, 8.53476923e+00,\n",
       "        8.62460844e+00, 8.71444765e+00, 8.80428686e+00, 8.89412607e+00,\n",
       "        8.98396528e+00]),\n",
       " <a list of 100 Patch objects>)"
      ]
     },
     "execution_count": 19,
     "metadata": {},
     "output_type": "execute_result"
    },
    {
     "data": {
      "image/png": "[encoded data removed]",
      "text/plain": [
       "<Figure size 432x288 with 1 Axes>"
      ]
     },
     "metadata": {
      "needs_background": "light"
     },
     "output_type": "display_data"
    }
   ],
   "source": [
    "plt.hist(y, bins = 100)\n",
    "#没看出来是啥分布。。。"
   ]
  },
  {
   "cell_type": "code",
   "execution_count": null,
   "metadata": {},
   "outputs": [],
   "source": []
  },
  {
   "cell_type": "code",
   "execution_count": null,
   "metadata": {},
   "outputs": [],
   "source": [
    "#"
   ]
  },
  {
   "cell_type": "code",
   "execution_count": 24,
   "metadata": {},
   "outputs": [],
   "source": [
    "def sigmoid(x):\n",
    "    return np.exp(x)/(1 + np.exp(x))"
   ]
  },
  {
   "cell_type": "code",
   "execution_count": 25,
   "metadata": {},
   "outputs": [
    {
     "data": {
      "text/plain": [
       "array([0.61094343, 0.62768613, 0.65434227, ..., 0.63595076, 0.61679   ,\n",
       "       0.61828745])"
      ]
     },
     "execution_count": 25,
     "metadata": {},
     "output_type": "execute_result"
    }
   ],
   "source": [
    "sigmoid(x)"
   ]
  },
  {
   "cell_type": "code",
   "execution_count": 26,
   "metadata": {},
   "outputs": [],
   "source": [
    "def softplus(x):\n",
    "    return np.log(1 + np.exp(x))"
   ]
  },
  {
   "cell_type": "code",
   "execution_count": 27,
   "metadata": {},
   "outputs": [
    {
     "data": {
      "text/plain": [
       "array([0.94403051, 0.98801803, 1.06230622, ..., 1.01046614, 0.95917214,\n",
       "       0.96308744])"
      ]
     },
     "execution_count": 27,
     "metadata": {},
     "output_type": "execute_result"
    }
   ],
   "source": [
    "softplus(x)"
   ]
  },
  {
   "cell_type": "code",
   "execution_count": null,
   "metadata": {},
   "outputs": [],
   "source": []
  }
 ],
 "metadata": {
  "kernelspec": {
   "display_name": "Python 3",
   "language": "python",
   "name": "python3"
  },
  "language_info": {
   "codemirror_mode": {
    "name": "ipython",
    "version": 3
   },
   "file_extension": ".py",
   "mimetype": "text/x-python",
   "name": "python",
   "nbconvert_exporter": "python",
   "pygments_lexer": "ipython3",
   "version": "3.6.10"
  }
 },
 "nbformat": 4,
 "nbformat_minor": 2
}
